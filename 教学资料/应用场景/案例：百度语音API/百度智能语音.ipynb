{
 "cells": [
  {
   "cell_type": "code",
   "execution_count": 1,
   "metadata": {},
   "outputs": [],
   "source": [
    "from aip import AipSpeech\n",
    "APP_ID = '15629877'#引号之间填写之前在ai平台上获得的参数\n",
    "API_KEY = 'ZRFQ9NSnFwGHtqGGcdPXqFde'#如上\n",
    "SECRET_KEY = 'adrlT2hYxkFFAnPy128m6fHjTZ92EwZW'#如上 \n",
    " \n",
    "client = AipSpeech(APP_ID, API_KEY, SECRET_KEY)\n",
    "lan=\"网络17的同学们，大家好，我是百度小助手，欢迎来到人工智能课堂，领略人工智能的无穷奥妙！\" \n",
    "result = client.synthesis(lan, 'zh', 1, { 'vol': 5,'per':4,'spd':5 })\n",
    "'''\n",
    "固定值zh。语言选择,目前只有中英文混合模式，填写固定值zh\n",
    "客户端类型选择，web端填写固定值1\n",
    "spd语速，取值0-15，默认为5中语速(选填)\n",
    "pit音调，取值0-15，默认为5中语调（选填）\n",
    "vol音量，取值0-15，默认为5中音量（选填）\n",
    "per发音人选择, 0为普通女声，1为普通男生，3为情感合成-度逍遥，4为情感合成-度丫丫，默认为普通女声\n",
    "'''\n",
    "#识别正确返回语音二进制 错误则返回dict 参照下面错误码 \n",
    "if not isinstance(result, dict): \n",
    "    with open('aui.mp3', 'wb') as f: \n",
    "        f.write(result)\n"
   ]
  },
  {
   "cell_type": "code",
   "execution_count": null,
   "metadata": {},
   "outputs": [],
   "source": []
  },
  {
   "cell_type": "code",
   "execution_count": null,
   "metadata": {},
   "outputs": [],
   "source": []
  }
 ],
 "metadata": {
  "kernelspec": {
   "display_name": "Python 3",
   "language": "python",
   "name": "python3"
  },
  "language_info": {
   "codemirror_mode": {
    "name": "ipython",
    "version": 3
   },
   "file_extension": ".py",
   "mimetype": "text/x-python",
   "name": "python",
   "nbconvert_exporter": "python",
   "pygments_lexer": "ipython3",
   "version": "3.7.1"
  }
 },
 "nbformat": 4,
 "nbformat_minor": 1
}
